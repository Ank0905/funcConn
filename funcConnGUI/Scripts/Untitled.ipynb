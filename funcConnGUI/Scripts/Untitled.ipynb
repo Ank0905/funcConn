{
 "cells": [
  {
   "cell_type": "code",
   "execution_count": 8,
   "metadata": {
    "collapsed": true
   },
   "outputs": [],
   "source": [
    "import os\n",
    "from nipype import Workflow, Node, Function\n"
   ]
  },
  {
   "cell_type": "code",
   "execution_count": 9,
   "metadata": {},
   "outputs": [
    {
     "name": "stdout",
     "output_type": "stream",
     "text": [
      "170925-13:15:24,177 workflow INFO:\n",
      "\t Workflow hello settings: ['check', 'execution', 'logging']\n",
      "170925-13:15:24,180 workflow INFO:\n",
      "\t Running serially.\n",
      "170925-13:15:24,181 workflow INFO:\n",
      "\t Executing node a_plus_b in dir: /home/deepak/Desktop/funcConn/funcConnGUI/Scripts/hello/a_plus_b\n"
     ]
    },
    {
     "data": {
      "text/plain": [
       "\n",
       "sum = 4"
      ]
     },
     "execution_count": 9,
     "metadata": {},
     "output_type": "execute_result"
    }
   ],
   "source": [
    "\n",
    "\n",
    "def sum(a, b):\n",
    "    return a + b\n",
    "\n",
    "wf = Workflow('hello')\n",
    "\n",
    "adder = Node(Function(input_names=['a', 'b'],\n",
    "                      output_names=['sum'],\n",
    "                      function=sum), \n",
    "             name='a_plus_b')\n",
    "\n",
    "adder.inputs.a = 1\n",
    "adder.inputs.b = 3\n",
    "\n",
    "wf.add_nodes([adder])\n",
    "\n",
    "wf.base_dir = os.getcwd()\n",
    "\n",
    "eg = wf.run()\n",
    "\n",
    "eg.nodes()[0].result.outputs\n",
    "\n"
   ]
  },
  {
   "cell_type": "code",
   "execution_count": 10,
   "metadata": {},
   "outputs": [
    {
     "name": "stdout",
     "output_type": "stream",
     "text": [
      "170925-13:15:25,552 workflow INFO:\n",
      "\t Workflow hello settings: ['check', 'execution', 'logging']\n",
      "170925-13:15:25,557 workflow INFO:\n",
      "\t Running serially.\n",
      "170925-13:15:25,558 workflow INFO:\n",
      "\t Executing node a_plus_b in dir: /home/deepak/Desktop/funcConn/funcConnGUI/Scripts/hello/a_plus_b\n",
      "170925-13:15:25,563 workflow INFO:\n",
      "\t Executing node concat_a_b in dir: /home/deepak/Desktop/funcConn/funcConnGUI/Scripts/hello/concat_a_b\n",
      "170925-13:15:25,564 workflow INFO:\n",
      "\t Collecting precomputed outputs\n",
      "[hello.a_plus_b, hello.concat_a_b]\n"
     ]
    }
   ],
   "source": [
    "\n",
    "\n",
    "def concat(a, b):\n",
    "    return [a, b]\n",
    "\n",
    "\n",
    "concater = Node(Function(input_names=['a', 'b'],\n",
    "                         output_names=['some_list'],\n",
    "                         function=concat), \n",
    "                name='concat_a_b')\n",
    "\n",
    "wf.connect(adder, 'sum', concater, 'a')\n",
    "concater.inputs.b = 3\n",
    "\n",
    "eg = wf.run()\n",
    "print(eg.nodes())\n",
    "\n",
    "# eg.nodes()[0].result.outputs"
   ]
  },
  {
   "cell_type": "code",
   "execution_count": 11,
   "metadata": {},
   "outputs": [
    {
     "data": {
      "text/plain": [
       "\n",
       "some_list = [4, 3]"
      ]
     },
     "execution_count": 11,
     "metadata": {},
     "output_type": "execute_result"
    }
   ],
   "source": [
    "\n",
    "\n",
    "eg.nodes()[-1].result.outputs\n",
    "\n"
   ]
  },
  {
   "cell_type": "code",
   "execution_count": 12,
   "metadata": {},
   "outputs": [
    {
     "name": "stdout",
     "output_type": "stream",
     "text": [
      "170925-13:15:29,463 workflow INFO:\n",
      "\t Workflow hello settings: ['check', 'execution', 'logging']\n",
      "170925-13:15:29,467 workflow INFO:\n",
      "\t Running serially.\n",
      "170925-13:15:29,468 workflow INFO:\n",
      "\t Executing node a_plus_b in dir: /home/deepak/Desktop/funcConn/funcConnGUI/Scripts/hello/a_plus_b\n",
      "170925-13:15:29,469 workflow INFO:\n",
      "\t Collecting precomputed outputs\n",
      "170925-13:15:29,470 workflow INFO:\n",
      "\t Executing node concat_a_b in dir: /home/deepak/Desktop/funcConn/funcConnGUI/Scripts/hello/concat_a_b\n",
      "170925-13:15:29,647 workflow INFO:\n",
      "\t Executing node add_1 in dir: /home/deepak/Desktop/funcConn/funcConnGUI/Scripts/hello/add_1\n",
      "PLUS ONE, a = [4, 3]\n",
      "170925-13:15:29,793 workflow ERROR:\n",
      "\t ['Node add_1 failed to run on host deepak-OptiPlex-9030-AIO.']\n",
      "170925-13:15:29,806 workflow INFO:\n",
      "\t Saving crash info to /home/deepak/Desktop/funcConn/funcConnGUI/Scripts/crash-20170925-131529-deepak-add_1-685ecd1a-7e53-4d78-bbc4-af864cf3fac8.pklz\n",
      "170925-13:15:29,807 workflow INFO:\n",
      "\t Traceback (most recent call last):\n",
      "  File \"/home/deepak/anaconda3/lib/python3.6/site-packages/nipype/pipeline/plugins/linear.py\", line 43, in run\n",
      "    node.run(updatehash=updatehash)\n",
      "  File \"/home/deepak/anaconda3/lib/python3.6/site-packages/nipype/pipeline/engine/nodes.py\", line 372, in run\n",
      "    self._run_interface()\n",
      "  File \"/home/deepak/anaconda3/lib/python3.6/site-packages/nipype/pipeline/engine/nodes.py\", line 482, in _run_interface\n",
      "    self._result = self._run_command(execute)\n",
      "  File \"/home/deepak/anaconda3/lib/python3.6/site-packages/nipype/pipeline/engine/nodes.py\", line 613, in _run_command\n",
      "    result = self._interface.run()\n",
      "  File \"/home/deepak/anaconda3/lib/python3.6/site-packages/nipype/interfaces/base.py\", line 1081, in run\n",
      "    runtime = self._run_wrapper(runtime)\n",
      "  File \"/home/deepak/anaconda3/lib/python3.6/site-packages/nipype/interfaces/base.py\", line 1029, in _run_wrapper\n",
      "    runtime = self._run_interface(runtime)\n",
      "  File \"/home/deepak/anaconda3/lib/python3.6/site-packages/nipype/interfaces/utility/wrappers.py\", line 194, in _run_interface\n",
      "    out = function_handle(**args)\n",
      "  File \"<string>\", line 3, in plus_one\n",
      "TypeError: can only concatenate list (not \"int\") to list\n",
      "Interface Function failed to run. \n",
      "\n",
      "170925-13:15:29,808 workflow INFO:\n",
      "\t ***********************************\n",
      "170925-13:15:29,809 workflow ERROR:\n",
      "\t could not run node: hello.add_1\n",
      "170925-13:15:29,809 workflow INFO:\n",
      "\t crashfile: /home/deepak/Desktop/funcConn/funcConnGUI/Scripts/crash-20170925-131529-deepak-add_1-685ecd1a-7e53-4d78-bbc4-af864cf3fac8.pklz\n",
      "170925-13:15:29,810 workflow INFO:\n",
      "\t ***********************************\n"
     ]
    },
    {
     "ename": "RuntimeError",
     "evalue": "Workflow did not execute cleanly. Check log for details",
     "output_type": "error",
     "traceback": [
      "\u001b[0;31m---------------------------------------------------------------------------\u001b[0m",
      "\u001b[0;31mRuntimeError\u001b[0m                              Traceback (most recent call last)",
      "\u001b[0;32m<ipython-input-12-4a8e44946a72>\u001b[0m in \u001b[0;36m<module>\u001b[0;34m()\u001b[0m\n\u001b[1;32m     12\u001b[0m \u001b[0mwf\u001b[0m\u001b[0;34m.\u001b[0m\u001b[0mconnect\u001b[0m\u001b[0;34m(\u001b[0m\u001b[0mconcater\u001b[0m\u001b[0;34m,\u001b[0m \u001b[0;34m'some_list'\u001b[0m\u001b[0;34m,\u001b[0m \u001b[0mplusone\u001b[0m\u001b[0;34m,\u001b[0m \u001b[0;34m'a'\u001b[0m\u001b[0;34m)\u001b[0m\u001b[0;34m\u001b[0m\u001b[0m\n\u001b[1;32m     13\u001b[0m \u001b[0;34m\u001b[0m\u001b[0m\n\u001b[0;32m---> 14\u001b[0;31m \u001b[0meg\u001b[0m \u001b[0;34m=\u001b[0m \u001b[0mwf\u001b[0m\u001b[0;34m.\u001b[0m\u001b[0mrun\u001b[0m\u001b[0;34m(\u001b[0m\u001b[0;34m)\u001b[0m\u001b[0;34m\u001b[0m\u001b[0m\n\u001b[0m\u001b[1;32m     15\u001b[0m \u001b[0mprint\u001b[0m\u001b[0;34m(\u001b[0m\u001b[0meg\u001b[0m\u001b[0;34m.\u001b[0m\u001b[0mnodes\u001b[0m\u001b[0;34m(\u001b[0m\u001b[0;34m)\u001b[0m\u001b[0;34m)\u001b[0m\u001b[0;34m\u001b[0m\u001b[0m\n\u001b[1;32m     16\u001b[0m \u001b[0;34m\u001b[0m\u001b[0m\n",
      "\u001b[0;32m/home/deepak/anaconda3/lib/python3.6/site-packages/nipype/pipeline/engine/workflows.py\u001b[0m in \u001b[0;36mrun\u001b[0;34m(self, plugin, plugin_args, updatehash)\u001b[0m\n\u001b[1;32m    588\u001b[0m         \u001b[0;32mif\u001b[0m \u001b[0mstr2bool\u001b[0m\u001b[0;34m(\u001b[0m\u001b[0mself\u001b[0m\u001b[0;34m.\u001b[0m\u001b[0mconfig\u001b[0m\u001b[0;34m[\u001b[0m\u001b[0;34m'execution'\u001b[0m\u001b[0;34m]\u001b[0m\u001b[0;34m[\u001b[0m\u001b[0;34m'create_report'\u001b[0m\u001b[0;34m]\u001b[0m\u001b[0;34m)\u001b[0m\u001b[0;34m:\u001b[0m\u001b[0;34m\u001b[0m\u001b[0m\n\u001b[1;32m    589\u001b[0m             \u001b[0mself\u001b[0m\u001b[0;34m.\u001b[0m\u001b[0m_write_report_info\u001b[0m\u001b[0;34m(\u001b[0m\u001b[0mself\u001b[0m\u001b[0;34m.\u001b[0m\u001b[0mbase_dir\u001b[0m\u001b[0;34m,\u001b[0m \u001b[0mself\u001b[0m\u001b[0;34m.\u001b[0m\u001b[0mname\u001b[0m\u001b[0;34m,\u001b[0m \u001b[0mexecgraph\u001b[0m\u001b[0;34m)\u001b[0m\u001b[0;34m\u001b[0m\u001b[0m\n\u001b[0;32m--> 590\u001b[0;31m         \u001b[0mrunner\u001b[0m\u001b[0;34m.\u001b[0m\u001b[0mrun\u001b[0m\u001b[0;34m(\u001b[0m\u001b[0mexecgraph\u001b[0m\u001b[0;34m,\u001b[0m \u001b[0mupdatehash\u001b[0m\u001b[0;34m=\u001b[0m\u001b[0mupdatehash\u001b[0m\u001b[0;34m,\u001b[0m \u001b[0mconfig\u001b[0m\u001b[0;34m=\u001b[0m\u001b[0mself\u001b[0m\u001b[0;34m.\u001b[0m\u001b[0mconfig\u001b[0m\u001b[0;34m)\u001b[0m\u001b[0;34m\u001b[0m\u001b[0m\n\u001b[0m\u001b[1;32m    591\u001b[0m         \u001b[0mdatestr\u001b[0m \u001b[0;34m=\u001b[0m \u001b[0mdatetime\u001b[0m\u001b[0;34m.\u001b[0m\u001b[0mutcnow\u001b[0m\u001b[0;34m(\u001b[0m\u001b[0;34m)\u001b[0m\u001b[0;34m.\u001b[0m\u001b[0mstrftime\u001b[0m\u001b[0;34m(\u001b[0m\u001b[0;34m'%Y%m%dT%H%M%S'\u001b[0m\u001b[0;34m)\u001b[0m\u001b[0;34m\u001b[0m\u001b[0m\n\u001b[1;32m    592\u001b[0m         \u001b[0;32mif\u001b[0m \u001b[0mstr2bool\u001b[0m\u001b[0;34m(\u001b[0m\u001b[0mself\u001b[0m\u001b[0;34m.\u001b[0m\u001b[0mconfig\u001b[0m\u001b[0;34m[\u001b[0m\u001b[0;34m'execution'\u001b[0m\u001b[0;34m]\u001b[0m\u001b[0;34m[\u001b[0m\u001b[0;34m'write_provenance'\u001b[0m\u001b[0;34m]\u001b[0m\u001b[0;34m)\u001b[0m\u001b[0;34m:\u001b[0m\u001b[0;34m\u001b[0m\u001b[0m\n",
      "\u001b[0;32m/home/deepak/anaconda3/lib/python3.6/site-packages/nipype/pipeline/plugins/linear.py\u001b[0m in \u001b[0;36mrun\u001b[0;34m(self, graph, config, updatehash)\u001b[0m\n\u001b[1;32m     59\u001b[0m                 \u001b[0;32mif\u001b[0m \u001b[0mself\u001b[0m\u001b[0;34m.\u001b[0m\u001b[0m_status_callback\u001b[0m\u001b[0;34m:\u001b[0m\u001b[0;34m\u001b[0m\u001b[0m\n\u001b[1;32m     60\u001b[0m                     \u001b[0mself\u001b[0m\u001b[0;34m.\u001b[0m\u001b[0m_status_callback\u001b[0m\u001b[0;34m(\u001b[0m\u001b[0mnode\u001b[0m\u001b[0;34m,\u001b[0m \u001b[0;34m'exception'\u001b[0m\u001b[0;34m)\u001b[0m\u001b[0;34m\u001b[0m\u001b[0m\n\u001b[0;32m---> 61\u001b[0;31m         \u001b[0mreport_nodes_not_run\u001b[0m\u001b[0;34m(\u001b[0m\u001b[0mnotrun\u001b[0m\u001b[0;34m)\u001b[0m\u001b[0;34m\u001b[0m\u001b[0m\n\u001b[0m",
      "\u001b[0;32m/home/deepak/anaconda3/lib/python3.6/site-packages/nipype/pipeline/plugins/base.py\u001b[0m in \u001b[0;36mreport_nodes_not_run\u001b[0;34m(notrun)\u001b[0m\n\u001b[1;32m     99\u001b[0m                 \u001b[0mlogger\u001b[0m\u001b[0;34m.\u001b[0m\u001b[0mdebug\u001b[0m\u001b[0;34m(\u001b[0m\u001b[0msubnode\u001b[0m\u001b[0;34m.\u001b[0m\u001b[0m_id\u001b[0m\u001b[0;34m)\u001b[0m\u001b[0;34m\u001b[0m\u001b[0m\n\u001b[1;32m    100\u001b[0m         \u001b[0mlogger\u001b[0m\u001b[0;34m.\u001b[0m\u001b[0minfo\u001b[0m\u001b[0;34m(\u001b[0m\u001b[0;34m\"***********************************\"\u001b[0m\u001b[0;34m)\u001b[0m\u001b[0;34m\u001b[0m\u001b[0m\n\u001b[0;32m--> 101\u001b[0;31m         raise RuntimeError(('Workflow did not execute cleanly. '\n\u001b[0m\u001b[1;32m    102\u001b[0m                             'Check log for details'))\n\u001b[1;32m    103\u001b[0m \u001b[0;34m\u001b[0m\u001b[0m\n",
      "\u001b[0;31mRuntimeError\u001b[0m: Workflow did not execute cleanly. Check log for details"
     ]
    }
   ],
   "source": [
    "\n",
    "\n",
    "def plus_one(a):\n",
    "    print(\"PLUS ONE, a = {}\".format(a))\n",
    "    return a + 1\n",
    "\n",
    "plusone = Node(Function(input_names=['a'],\n",
    "                        output_names=['out'],\n",
    "                        function=plus_one), \n",
    "               name='add_1')\n",
    "\n",
    "wf.connect(concater, 'some_list', plusone, 'a')\n",
    "\n",
    "eg = wf.run()\n",
    "print(eg.nodes())\n",
    "\n"
   ]
  },
  {
   "cell_type": "code",
   "execution_count": 13,
   "metadata": {},
   "outputs": [
    {
     "name": "stdout",
     "output_type": "stream",
     "text": [
      "\r\n",
      "\r\n",
      "File: /home/deepak/Desktop/funcConn/funcConnGUI/Scripts/crash-20170925-131529-deepak-add_1-685ecd1a-7e53-4d78-bbc4-af864cf3fac8.pklz\r\n",
      "Node: hello.add_1\r\n",
      "Working directory: /home/deepak/Desktop/funcConn/funcConnGUI/Scripts/hello/add_1\r\n",
      "\r\n",
      "\r\n",
      "Node inputs:\r\n",
      "\r\n",
      "a = [4, 3]\r\n",
      "function_str = def plus_one(a):\r\n",
      "    print(\"PLUS ONE, a = {}\".format(a))\r\n",
      "    return a + 1\r\n",
      "\r\n",
      "ignore_exception = False\r\n",
      "\r\n",
      "\r\n",
      "\r\n",
      "Traceback: \r\n",
      "Traceback (most recent call last):\r\n",
      "  File \"/home/deepak/anaconda3/lib/python3.6/site-packages/nipype/pipeline/plugins/linear.py\", line 43, in run\r\n",
      "    node.run(updatehash=updatehash)\r\n",
      "  File \"/home/deepak/anaconda3/lib/python3.6/site-packages/nipype/pipeline/engine/nodes.py\", line 372, in run\r\n",
      "    self._run_interface()\r\n",
      "  File \"/home/deepak/anaconda3/lib/python3.6/site-packages/nipype/pipeline/engine/nodes.py\", line 482, in _run_interface\r\n",
      "    self._result = self._run_command(execute)\r\n",
      "  File \"/home/deepak/anaconda3/lib/python3.6/site-packages/nipype/pipeline/engine/nodes.py\", line 613, in _run_command\r\n",
      "    result = self._interface.run()\r\n",
      "  File \"/home/deepak/anaconda3/lib/python3.6/site-packages/nipype/interfaces/base.py\", line 1081, in run\r\n",
      "    runtime = self._run_wrapper(runtime)\r\n",
      "  File \"/home/deepak/anaconda3/lib/python3.6/site-packages/nipype/interfaces/base.py\", line 1029, in _run_wrapper\r\n",
      "    runtime = self._run_interface(runtime)\r\n",
      "  File \"/home/deepak/anaconda3/lib/python3.6/site-packages/nipype/interfaces/utility/wrappers.py\", line 194, in _run_interface\r\n",
      "    out = function_handle(**args)\r\n",
      "  File \"<string>\", line 3, in plus_one\r\n",
      "TypeError: can only concatenate list (not \"int\") to list\r\n",
      "Interface Function failed to run. \r\n",
      "\r\n",
      "\r\n",
      "\r\n"
     ]
    }
   ],
   "source": [
    "\n",
    "\n",
    "!LC_ALL= nipypecli crash crash*\n",
    "\n"
   ]
  },
  {
   "cell_type": "code",
   "execution_count": 14,
   "metadata": {},
   "outputs": [
    {
     "name": "stdout",
     "output_type": "stream",
     "text": [
      "170925-13:17:32,559 workflow INFO:\n",
      "\t Workflow hello_mapnode settings: ['check', 'execution', 'logging']\n",
      "170925-13:17:32,563 workflow INFO:\n",
      "\t Running serially.\n",
      "170925-13:17:32,564 workflow INFO:\n",
      "\t Executing node a_plus_b in dir: /home/deepak/Desktop/funcConn/funcConnGUI/Scripts/hello_mapnode/a_plus_b\n",
      "170925-13:17:32,569 workflow INFO:\n",
      "\t Executing node concat_a_b in dir: /home/deepak/Desktop/funcConn/funcConnGUI/Scripts/hello/concat_a_b\n",
      "170925-13:17:32,570 workflow INFO:\n",
      "\t Collecting precomputed outputs\n",
      "170925-13:17:32,571 workflow INFO:\n",
      "\t Executing node add_1 in dir: /home/deepak/Desktop/funcConn/funcConnGUI/Scripts/hello_mapnode/add_1\n",
      "170925-13:17:32,623 workflow INFO:\n",
      "\t Executing node _add_10 in dir: /home/deepak/Desktop/funcConn/funcConnGUI/Scripts/hello_mapnode/add_1/mapflow/_add_10\n",
      "PLUS ONE, a = 4\n",
      "170925-13:17:32,630 workflow INFO:\n",
      "\t Executing node _add_11 in dir: /home/deepak/Desktop/funcConn/funcConnGUI/Scripts/hello_mapnode/add_1/mapflow/_add_11\n",
      "PLUS ONE, a = 3\n",
      "[hello_mapnode.a_plus_b, hello.concat_a_b, hello_mapnode.add_1]\n"
     ]
    }
   ],
   "source": [
    "\n",
    "\n",
    "from nipype import MapNode\n",
    "\n",
    "plusone = MapNode(Function(input_names=['a'],\n",
    "                           output_names=['out'],\n",
    "                           function=plus_one), \n",
    "                  iterfield=['a'],\n",
    "                  name='add_1')\n",
    "\n",
    "wf = Workflow('hello_mapnode')\n",
    "\n",
    "adder = Node(Function(input_names=['a', 'b'],\n",
    "                      output_names=['sum'],\n",
    "                      function=sum), \n",
    "             name='a_plus_b')\n",
    "\n",
    "adder.inputs.a = 1\n",
    "adder.inputs.b = 3\n",
    "wf.connect(adder, 'sum', concater, 'a')\n",
    "concater.inputs.b = 3\n",
    "\n",
    "wf.connect(concater, 'some_list', plusone, 'a')\n",
    "\n",
    "wf.base_dir = os.getcwd()\n",
    "\n",
    "eg = wf.run()\n",
    "print(eg.nodes())\n",
    "\n"
   ]
  },
  {
   "cell_type": "code",
   "execution_count": 15,
   "metadata": {},
   "outputs": [
    {
     "name": "stdout",
     "output_type": "stream",
     "text": [
      "Bunch(out=[5, 4])\n"
     ]
    }
   ],
   "source": [
    "\n",
    "\n",
    "print(eg.nodes()[2].result.outputs)\n",
    "\n"
   ]
  },
  {
   "cell_type": "code",
   "execution_count": 16,
   "metadata": {},
   "outputs": [
    {
     "name": "stdout",
     "output_type": "stream",
     "text": [
      "170925-13:18:36,18 workflow INFO:\n",
      "\t Workflow hello_mapnode settings: ['check', 'execution', 'logging']\n",
      "170925-13:18:36,28 workflow INFO:\n",
      "\t Running serially.\n",
      "170925-13:18:36,28 workflow INFO:\n",
      "\t Executing node a_plus_b.aI.a1 in dir: /home/deepak/Desktop/funcConn/funcConnGUI/Scripts/hello_mapnode/_a_2/a_plus_b\n",
      "170925-13:18:36,34 workflow INFO:\n",
      "\t Executing node concat_a_b.a1 in dir: /home/deepak/Desktop/funcConn/funcConnGUI/Scripts/hello/_a_2/concat_a_b\n",
      "170925-13:18:36,40 workflow INFO:\n",
      "\t Executing node add_1.a1 in dir: /home/deepak/Desktop/funcConn/funcConnGUI/Scripts/hello_mapnode/_a_2/add_1\n",
      "170925-13:18:36,43 workflow INFO:\n",
      "\t Executing node _add_10 in dir: /home/deepak/Desktop/funcConn/funcConnGUI/Scripts/hello_mapnode/_a_2/add_1/mapflow/_add_10\n",
      "PLUS ONE, a = 4\n",
      "170925-13:18:36,51 workflow INFO:\n",
      "\t Executing node _add_11 in dir: /home/deepak/Desktop/funcConn/funcConnGUI/Scripts/hello_mapnode/_a_2/add_1/mapflow/_add_11\n",
      "PLUS ONE, a = 3\n",
      "170925-13:18:36,58 workflow INFO:\n",
      "\t Executing node a_plus_b.aI.a0 in dir: /home/deepak/Desktop/funcConn/funcConnGUI/Scripts/hello_mapnode/_a_1/a_plus_b\n",
      "170925-13:18:36,63 workflow INFO:\n",
      "\t Executing node concat_a_b.a0 in dir: /home/deepak/Desktop/funcConn/funcConnGUI/Scripts/hello/_a_1/concat_a_b\n",
      "170925-13:18:36,68 workflow INFO:\n",
      "\t Executing node add_1.a0 in dir: /home/deepak/Desktop/funcConn/funcConnGUI/Scripts/hello_mapnode/_a_1/add_1\n",
      "170925-13:18:36,70 workflow INFO:\n",
      "\t Executing node _add_10 in dir: /home/deepak/Desktop/funcConn/funcConnGUI/Scripts/hello_mapnode/_a_1/add_1/mapflow/_add_10\n",
      "PLUS ONE, a = 3\n",
      "170925-13:18:36,76 workflow INFO:\n",
      "\t Executing node _add_11 in dir: /home/deepak/Desktop/funcConn/funcConnGUI/Scripts/hello_mapnode/_a_1/add_1/mapflow/_add_11\n",
      "PLUS ONE, a = 3\n",
      "[hello_mapnode.a_plus_b.aI.a0, hello.concat_a_b.a0, hello_mapnode.add_1.a0, hello_mapnode.a_plus_b.aI.a1, hello.concat_a_b.a1, hello_mapnode.add_1.a1]\n"
     ]
    }
   ],
   "source": [
    "\n",
    "\n",
    "adder.iterables = ('a', [1, 2])\n",
    "adder.inputs.b = 2\n",
    "\n",
    "eg = wf.run()\n",
    "print(eg.nodes())\n",
    "\n"
   ]
  },
  {
   "cell_type": "code",
   "execution_count": 23,
   "metadata": {},
   "outputs": [
    {
     "data": {
      "text/plain": [
       "\n",
       "some_list = [4, 3]"
      ]
     },
     "execution_count": 23,
     "metadata": {},
     "output_type": "execute_result"
    }
   ],
   "source": [
    "eg.nodes()[4].result.outputs"
   ]
  },
  {
   "cell_type": "code",
   "execution_count": 27,
   "metadata": {},
   "outputs": [
    {
     "name": "stdout",
     "output_type": "stream",
     "text": [
      "170925-13:27:07,195 workflow INFO:\n",
      "\t Generated workflow graph: /home/deepak/Desktop/funcConn/funcConnGUI/Scripts/hello_mapnode/graph.dot.png (graph2use=exec, simple_form=True).\n"
     ]
    },
    {
     "data": {
      "text/plain": [
       "'/home/deepak/Desktop/funcConn/funcConnGUI/Scripts/hello_mapnode/graph.dot.png'"
      ]
     },
     "execution_count": 27,
     "metadata": {},
     "output_type": "execute_result"
    }
   ],
   "source": [
    "wf.write_graph(graph2use='exec')"
   ]
  },
  {
   "cell_type": "code",
   "execution_count": 28,
   "metadata": {},
   "outputs": [],
   "source": [
    "from IPython.display import Image"
   ]
  },
  {
   "cell_type": "code",
   "execution_count": 29,
   "metadata": {},
   "outputs": [
    {
     "data": {
      "image/png": "[encoded data removed]",
      "text/plain": [
       "<IPython.core.display.Image object>"
      ]
     },
     "execution_count": 29,
     "metadata": {},
     "output_type": "execute_result"
    }
   ],
   "source": [
    "Image(\"hello_mapnode/graph.dot.png\")"
   ]
  },
  {
   "cell_type": "code",
   "execution_count": 36,
   "metadata": {},
   "outputs": [
    {
     "data": {
      "image/png": "[encoded data removed]",
      "text/plain": [
       "<IPython.core.display.Image object>"
      ]
     },
     "execution_count": 36,
     "metadata": {},
     "output_type": "execute_result"
    }
   ],
   "source": [
    "Image(\"hello_mapnode/graph_detailed.dot.png\")"
   ]
  },
  {
   "cell_type": "code",
   "execution_count": 31,
   "metadata": {},
   "outputs": [
    {
     "name": "stdout",
     "output_type": "stream",
     "text": [
      "170925-13:29:27,972 workflow INFO:\n",
      "\t Workflow hello_mapnode settings: ['check', 'execution', 'logging']\n",
      "170925-13:29:27,983 workflow INFO:\n",
      "\t Running serially.\n",
      "170925-13:29:27,984 workflow INFO:\n",
      "\t Executing node a_plus_b.bI.b1 in dir: /home/deepak/Desktop/funcConn/funcConnGUI/Scripts/hello_mapnode/_a_2/a_plus_b\n",
      "170925-13:29:27,985 workflow INFO:\n",
      "\t Collecting precomputed outputs\n",
      "170925-13:29:27,986 workflow INFO:\n",
      "\t Executing node concat_a_b.aI.a0.b1 in dir: /home/deepak/Desktop/funcConn/funcConnGUI/Scripts/hello/_a_2/_b_3/concat_a_b\n",
      "170925-13:29:27,991 workflow INFO:\n",
      "\t Executing node add_1.a0.b1 in dir: /home/deepak/Desktop/funcConn/funcConnGUI/Scripts/hello_mapnode/_a_2/_b_3/add_1\n",
      "170925-13:29:27,994 workflow INFO:\n",
      "\t Executing node _add_10 in dir: /home/deepak/Desktop/funcConn/funcConnGUI/Scripts/hello_mapnode/_a_2/_b_3/add_1/mapflow/_add_10\n",
      "PLUS ONE, a = 4\n",
      "170925-13:29:27,999 workflow INFO:\n",
      "\t Executing node _add_11 in dir: /home/deepak/Desktop/funcConn/funcConnGUI/Scripts/hello_mapnode/_a_2/_b_3/add_1/mapflow/_add_11\n",
      "PLUS ONE, a = 3\n",
      "170925-13:29:28,5 workflow INFO:\n",
      "\t Executing node concat_a_b.aI.a1.b1 in dir: /home/deepak/Desktop/funcConn/funcConnGUI/Scripts/hello/_a_2/_b_4/concat_a_b\n",
      "170925-13:29:28,11 workflow INFO:\n",
      "\t Executing node add_1.a1.b1 in dir: /home/deepak/Desktop/funcConn/funcConnGUI/Scripts/hello_mapnode/_a_2/_b_4/add_1\n",
      "170925-13:29:28,14 workflow INFO:\n",
      "\t Executing node _add_10 in dir: /home/deepak/Desktop/funcConn/funcConnGUI/Scripts/hello_mapnode/_a_2/_b_4/add_1/mapflow/_add_10\n",
      "PLUS ONE, a = 4\n",
      "170925-13:29:28,20 workflow INFO:\n",
      "\t Executing node _add_11 in dir: /home/deepak/Desktop/funcConn/funcConnGUI/Scripts/hello_mapnode/_a_2/_b_4/add_1/mapflow/_add_11\n",
      "PLUS ONE, a = 4\n",
      "170925-13:29:28,26 workflow INFO:\n",
      "\t Executing node a_plus_b.bI.b0 in dir: /home/deepak/Desktop/funcConn/funcConnGUI/Scripts/hello_mapnode/_a_1/a_plus_b\n",
      "170925-13:29:28,27 workflow INFO:\n",
      "\t Collecting precomputed outputs\n",
      "170925-13:29:28,28 workflow INFO:\n",
      "\t Executing node concat_a_b.aI.a0.b0 in dir: /home/deepak/Desktop/funcConn/funcConnGUI/Scripts/hello/_a_1/_b_3/concat_a_b\n",
      "170925-13:29:28,34 workflow INFO:\n",
      "\t Executing node add_1.a0.b0 in dir: /home/deepak/Desktop/funcConn/funcConnGUI/Scripts/hello_mapnode/_a_1/_b_3/add_1\n",
      "170925-13:29:28,36 workflow INFO:\n",
      "\t Executing node _add_10 in dir: /home/deepak/Desktop/funcConn/funcConnGUI/Scripts/hello_mapnode/_a_1/_b_3/add_1/mapflow/_add_10\n",
      "PLUS ONE, a = 3\n",
      "170925-13:29:28,41 workflow INFO:\n",
      "\t Executing node _add_11 in dir: /home/deepak/Desktop/funcConn/funcConnGUI/Scripts/hello_mapnode/_a_1/_b_3/add_1/mapflow/_add_11\n",
      "PLUS ONE, a = 3\n",
      "170925-13:29:28,47 workflow INFO:\n",
      "\t Executing node concat_a_b.aI.a1.b0 in dir: /home/deepak/Desktop/funcConn/funcConnGUI/Scripts/hello/_a_1/_b_4/concat_a_b\n",
      "170925-13:29:28,53 workflow INFO:\n",
      "\t Executing node add_1.a1.b0 in dir: /home/deepak/Desktop/funcConn/funcConnGUI/Scripts/hello_mapnode/_a_1/_b_4/add_1\n",
      "170925-13:29:28,57 workflow INFO:\n",
      "\t Executing node _add_10 in dir: /home/deepak/Desktop/funcConn/funcConnGUI/Scripts/hello_mapnode/_a_1/_b_4/add_1/mapflow/_add_10\n",
      "PLUS ONE, a = 3\n",
      "170925-13:29:28,63 workflow INFO:\n",
      "\t Executing node _add_11 in dir: /home/deepak/Desktop/funcConn/funcConnGUI/Scripts/hello_mapnode/_a_1/_b_4/add_1/mapflow/_add_11\n",
      "PLUS ONE, a = 4\n"
     ]
    },
    {
     "data": {
      "text/plain": [
       "[hello_mapnode.a_plus_b.bI.b0,\n",
       " hello.concat_a_b.aI.a0.b0,\n",
       " hello_mapnode.add_1.a0.b0,\n",
       " hello.concat_a_b.aI.a1.b0,\n",
       " hello_mapnode.add_1.a1.b0,\n",
       " hello_mapnode.a_plus_b.bI.b1,\n",
       " hello.concat_a_b.aI.a0.b1,\n",
       " hello_mapnode.add_1.a0.b1,\n",
       " hello.concat_a_b.aI.a1.b1,\n",
       " hello_mapnode.add_1.a1.b1]"
      ]
     },
     "execution_count": 31,
     "metadata": {},
     "output_type": "execute_result"
    }
   ],
   "source": [
    "concater.iterables = ('b', [3, 4])\n",
    "eg = wf.run()\n",
    "eg.nodes()\n"
   ]
  },
  {
   "cell_type": "code",
   "execution_count": 35,
   "metadata": {},
   "outputs": [
    {
     "name": "stdout",
     "output_type": "stream",
     "text": [
      "170925-13:31:17,597 workflow INFO:\n",
      "\t Generated workflow graph: /home/deepak/Desktop/funcConn/funcConnGUI/Scripts/hello_mapnode/graph.dot.png (graph2use=exec, simple_form=True).\n"
     ]
    },
    {
     "data": {
      "text/plain": [
       "'/home/deepak/Desktop/funcConn/funcConnGUI/Scripts/hello_mapnode/graph.dot.png'"
      ]
     },
     "execution_count": 35,
     "metadata": {},
     "output_type": "execute_result"
    }
   ],
   "source": [
    "wf.write_graph(graph2use='exec')"
   ]
  },
  {
   "cell_type": "code",
   "execution_count": 37,
   "metadata": {},
   "outputs": [
    {
     "name": "stdout",
     "output_type": "stream",
     "text": [
      "170925-13:36:10,499 workflow INFO:\n",
      "\t Workflow hello_mapnode settings: ['check', 'execution', 'logging']\n",
      "170925-13:36:10,510 workflow INFO:\n",
      "\t Running serially.\n",
      "170925-13:36:10,510 workflow INFO:\n",
      "\t Executing node a_plus_b.bI.b1 in dir: /home/deepak/Desktop/funcConn/funcConnGUI/Scripts/hello_mapnode/_a_2/a_plus_b\n",
      "170925-13:36:10,512 workflow INFO:\n",
      "\t Collecting precomputed outputs\n",
      "170925-13:36:10,513 workflow INFO:\n",
      "\t Executing node concat_a_b.aI.a0.b1 in dir: /home/deepak/Desktop/funcConn/funcConnGUI/Scripts/hello/_a_2/_b_3/concat_a_b\n",
      "170925-13:36:10,514 workflow INFO:\n",
      "\t Collecting precomputed outputs\n",
      "170925-13:36:10,516 workflow INFO:\n",
      "\t Executing node add_1.a0.b1 in dir: /home/deepak/Desktop/funcConn/funcConnGUI/Scripts/hello_mapnode/_a_2/_b_3/add_1\n",
      "170925-13:36:10,519 workflow INFO:\n",
      "\t Executing node _add_10 in dir: /home/deepak/Desktop/funcConn/funcConnGUI/Scripts/hello_mapnode/_a_2/_b_3/add_1/mapflow/_add_10\n",
      "PLUS ONE, a = 4\n",
      "170925-13:36:10,525 workflow INFO:\n",
      "\t Executing node _add_11 in dir: /home/deepak/Desktop/funcConn/funcConnGUI/Scripts/hello_mapnode/_a_2/_b_3/add_1/mapflow/_add_11\n",
      "PLUS ONE, a = 3\n",
      "170925-13:36:10,532 workflow INFO:\n",
      "\t Executing node concat_a_b.aI.a1.b1 in dir: /home/deepak/Desktop/funcConn/funcConnGUI/Scripts/hello/_a_2/_b_4/concat_a_b\n",
      "170925-13:36:10,533 workflow INFO:\n",
      "\t Collecting precomputed outputs\n",
      "170925-13:36:10,535 workflow INFO:\n",
      "\t Executing node add_1.a1.b1 in dir: /home/deepak/Desktop/funcConn/funcConnGUI/Scripts/hello_mapnode/_a_2/_b_4/add_1\n",
      "170925-13:36:10,538 workflow INFO:\n",
      "\t Executing node _add_10 in dir: /home/deepak/Desktop/funcConn/funcConnGUI/Scripts/hello_mapnode/_a_2/_b_4/add_1/mapflow/_add_10\n",
      "PLUS ONE, a = 4\n",
      "170925-13:36:10,545 workflow INFO:\n",
      "\t Executing node _add_11 in dir: /home/deepak/Desktop/funcConn/funcConnGUI/Scripts/hello_mapnode/_a_2/_b_4/add_1/mapflow/_add_11\n",
      "PLUS ONE, a = 4\n",
      "170925-13:36:10,551 workflow INFO:\n",
      "\t Executing node a_plus_b.bI.b0 in dir: /home/deepak/Desktop/funcConn/funcConnGUI/Scripts/hello_mapnode/_a_1/a_plus_b\n",
      "170925-13:36:10,552 workflow INFO:\n",
      "\t Collecting precomputed outputs\n",
      "170925-13:36:10,553 workflow INFO:\n",
      "\t Executing node concat_a_b.aI.a0.b0 in dir: /home/deepak/Desktop/funcConn/funcConnGUI/Scripts/hello/_a_1/_b_3/concat_a_b\n",
      "170925-13:36:10,554 workflow INFO:\n",
      "\t Collecting precomputed outputs\n",
      "170925-13:36:10,555 workflow INFO:\n",
      "\t Executing node add_1.a0.b0 in dir: /home/deepak/Desktop/funcConn/funcConnGUI/Scripts/hello_mapnode/_a_1/_b_3/add_1\n",
      "170925-13:36:10,558 workflow INFO:\n",
      "\t Executing node _add_10 in dir: /home/deepak/Desktop/funcConn/funcConnGUI/Scripts/hello_mapnode/_a_1/_b_3/add_1/mapflow/_add_10\n",
      "PLUS ONE, a = 3\n",
      "170925-13:36:10,563 workflow INFO:\n",
      "\t Executing node _add_11 in dir: /home/deepak/Desktop/funcConn/funcConnGUI/Scripts/hello_mapnode/_a_1/_b_3/add_1/mapflow/_add_11\n",
      "PLUS ONE, a = 3\n",
      "170925-13:36:10,570 workflow INFO:\n",
      "\t Executing node concat_a_b.aI.a1.b0 in dir: /home/deepak/Desktop/funcConn/funcConnGUI/Scripts/hello/_a_1/_b_4/concat_a_b\n",
      "170925-13:36:10,572 workflow INFO:\n",
      "\t Collecting precomputed outputs\n",
      "170925-13:36:10,573 workflow INFO:\n",
      "\t Executing node add_1.a1.b0 in dir: /home/deepak/Desktop/funcConn/funcConnGUI/Scripts/hello_mapnode/_a_1/_b_4/add_1\n",
      "170925-13:36:10,577 workflow INFO:\n",
      "\t Executing node _add_10 in dir: /home/deepak/Desktop/funcConn/funcConnGUI/Scripts/hello_mapnode/_a_1/_b_4/add_1/mapflow/_add_10\n",
      "PLUS ONE, a = 3\n",
      "170925-13:36:10,583 workflow INFO:\n",
      "\t Executing node _add_11 in dir: /home/deepak/Desktop/funcConn/funcConnGUI/Scripts/hello_mapnode/_a_1/_b_4/add_1/mapflow/_add_11\n",
      "PLUS ONE, a = 4\n",
      "170925-13:36:10,590 workflow INFO:\n",
      "\t Executing node join_scale_data.a1 in dir: /home/deepak/Desktop/funcConn/funcConnGUI/Scripts/hello_mapnode/_b_4/join_scale_data\n",
      "170925-13:36:10,598 workflow INFO:\n",
      "\t Executing node join_scale_data.a0 in dir: /home/deepak/Desktop/funcConn/funcConnGUI/Scripts/hello_mapnode/_b_3/join_scale_data\n"
     ]
    },
    {
     "data": {
      "text/plain": [
       "[hello_mapnode.join_scale_data.a0,\n",
       " hello_mapnode.join_scale_data.a1,\n",
       " hello_mapnode.a_plus_b.bI.b0,\n",
       " hello.concat_a_b.aI.a0.b0,\n",
       " hello_mapnode.add_1.a0.b0,\n",
       " hello.concat_a_b.aI.a1.b0,\n",
       " hello_mapnode.add_1.a1.b0,\n",
       " hello_mapnode.a_plus_b.bI.b1,\n",
       " hello.concat_a_b.aI.a0.b1,\n",
       " hello_mapnode.add_1.a0.b1,\n",
       " hello.concat_a_b.aI.a1.b1,\n",
       " hello_mapnode.add_1.a1.b1]"
      ]
     },
     "execution_count": 37,
     "metadata": {},
     "output_type": "execute_result"
    }
   ],
   "source": [
    "def merge_and_scale_data(data2):\n",
    "    import numpy as np\n",
    "    return (np.array(data2) * 1000).tolist()\n",
    "\n",
    "\n",
    "from nipype import JoinNode\n",
    "joiner = JoinNode(Function(input_names=['data2'],\n",
    "                          output_names=['data_scaled'],\n",
    "                          function=merge_and_scale_data),\n",
    "                 name='join_scale_data',\n",
    "                 joinsource=adder,\n",
    "                 joinfield=['data2'])\n",
    "\n",
    "wf.connect(plusone, 'out', joiner, 'data2')\n",
    "\n",
    "eg = wf.run()\n",
    "eg.nodes()"
   ]
  },
  {
   "cell_type": "code",
   "execution_count": 41,
   "metadata": {},
   "outputs": [
    {
     "data": {
      "text/plain": [
       "\n",
       "data_scaled = [[4000, 4000], [5000, 4000]]"
      ]
     },
     "execution_count": 41,
     "metadata": {},
     "output_type": "execute_result"
    }
   ],
   "source": [
    "eg.nodes()[0].result.outputs\n"
   ]
  },
  {
   "cell_type": "code",
   "execution_count": null,
   "metadata": {
    "collapsed": true
   },
   "outputs": [],
   "source": []
  }
 ],
 "metadata": {
  "kernelspec": {
   "display_name": "Python 3",
   "language": "python",
   "name": "python3"
  },
  "language_info": {
   "codemirror_mode": {
    "name": "ipython",
    "version": 3
   },
   "file_extension": ".py",
   "mimetype": "text/x-python",
   "name": "python",
   "nbconvert_exporter": "python",
   "pygments_lexer": "ipython3",
   "version": "3.6.1"
  }
 },
 "nbformat": 4,
 "nbformat_minor": 2
}

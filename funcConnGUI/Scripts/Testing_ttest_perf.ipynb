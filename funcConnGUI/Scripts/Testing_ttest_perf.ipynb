{
 "cells": [
  {
   "cell_type": "code",
   "execution_count": 7,
   "metadata": {
    "collapsed": true
   },
   "outputs": [],
   "source": [
    "import os\n",
    "import numpy as np\n",
    "import timeit\n",
    "import ttest"
   ]
  },
  {
   "cell_type": "code",
   "execution_count": 8,
   "metadata": {},
   "outputs": [
    {
     "name": "stdout",
     "output_type": "stream",
     "text": [
      "abc.nii.gz\n",
      "Group1\n",
      "Group2\n",
      "MNI152_T1_2mm_brain_mask.nii.gz\n",
      "Preprocess_network.py\n",
      "__pycache__\n",
      "read_json.ipynb\n",
      "read_json.py\n",
      "run.sh\n",
      "SyntheticData.py\n",
      "Testing_ttest_perf.ipynb\n",
      "tmp\n",
      "ttest.py\n",
      "Untitled.ipynb\n"
     ]
    }
   ],
   "source": [
    "%%bash\n",
    "ls"
   ]
  },
  {
   "cell_type": "code",
   "execution_count": 9,
   "metadata": {
    "collapsed": true
   },
   "outputs": [],
   "source": [
    "list1 = os.listdir('Group1/')\n",
    "list1 = [os.path.join(os.getcwd(), 'Group1/' + file) for file in list1]"
   ]
  },
  {
   "cell_type": "code",
   "execution_count": 10,
   "metadata": {
    "collapsed": true
   },
   "outputs": [],
   "source": [
    "list2 = os.listdir('Group2/')\n",
    "list2 = [os.path.join(os.getcwd(), 'Group2/'+ file) for file in list2]"
   ]
  },
  {
   "cell_type": "code",
   "execution_count": 11,
   "metadata": {},
   "outputs": [
    {
     "data": {
      "text/plain": [
       "['/home/deepak/Desktop/funcConn/funcConnGUI/Scripts/Group1/file4.nii.gz',\n",
       " '/home/deepak/Desktop/funcConn/funcConnGUI/Scripts/Group1/file5.nii.gz',\n",
       " '/home/deepak/Desktop/funcConn/funcConnGUI/Scripts/Group1/file1.nii.gz',\n",
       " '/home/deepak/Desktop/funcConn/funcConnGUI/Scripts/Group1/file2.nii.gz',\n",
       " '/home/deepak/Desktop/funcConn/funcConnGUI/Scripts/Group1/file3.nii.gz']"
      ]
     },
     "execution_count": 11,
     "metadata": {},
     "output_type": "execute_result"
    }
   ],
   "source": [
    "list1"
   ]
  },
  {
   "cell_type": "code",
   "execution_count": 12,
   "metadata": {},
   "outputs": [
    {
     "data": {
      "text/plain": [
       "['/home/deepak/Desktop/funcConn/funcConnGUI/Scripts/Group2/file11.nii.gz',\n",
       " '/home/deepak/Desktop/funcConn/funcConnGUI/Scripts/Group2/file12.nii.gz',\n",
       " '/home/deepak/Desktop/funcConn/funcConnGUI/Scripts/Group2/file10.nii.gz',\n",
       " '/home/deepak/Desktop/funcConn/funcConnGUI/Scripts/Group2/file7.nii.gz',\n",
       " '/home/deepak/Desktop/funcConn/funcConnGUI/Scripts/Group2/file6.nii.gz',\n",
       " '/home/deepak/Desktop/funcConn/funcConnGUI/Scripts/Group2/file8.nii.gz',\n",
       " '/home/deepak/Desktop/funcConn/funcConnGUI/Scripts/Group2/file9.nii.gz']"
      ]
     },
     "execution_count": 12,
     "metadata": {},
     "output_type": "execute_result"
    }
   ],
   "source": [
    "list2"
   ]
  },
  {
   "cell_type": "code",
   "execution_count": 13,
   "metadata": {},
   "outputs": [
    {
     "name": "stdout",
     "output_type": "stream",
     "text": [
      "(91, 109, 91, 246)\n",
      "['/home/deepak/Desktop/funcConn/funcConnGUI/Scripts/Group1/file4.nii.gz', '/home/deepak/Desktop/funcConn/funcConnGUI/Scripts/Group1/file5.nii.gz', '/home/deepak/Desktop/funcConn/funcConnGUI/Scripts/Group1/file1.nii.gz', '/home/deepak/Desktop/funcConn/funcConnGUI/Scripts/Group1/file2.nii.gz', '/home/deepak/Desktop/funcConn/funcConnGUI/Scripts/Group1/file3.nii.gz']\n"
     ]
    },
    {
     "ename": "MaskError",
     "evalue": "Mask and data not compatible: data size is 222046734, mask size is 902629.",
     "output_type": "error",
     "traceback": [
      "\u001b[0;31m---------------------------------------------------------------------------\u001b[0m",
      "\u001b[0;31mMaskError\u001b[0m                                 Traceback (most recent call last)",
      "\u001b[0;32m<ipython-input-13-3c5fd4cd2420>\u001b[0m in \u001b[0;36m<module>\u001b[0;34m()\u001b[0m\n\u001b[0;32m----> 1\u001b[0;31m \u001b[0mTvals\u001b[0m\u001b[0;34m,\u001b[0m \u001b[0mPvals\u001b[0m \u001b[0;34m=\u001b[0m \u001b[0mttest\u001b[0m\u001b[0;34m.\u001b[0m\u001b[0mttest_1samp_for_all_ROIs\u001b[0m\u001b[0;34m(\u001b[0m\u001b[0mlist1\u001b[0m\u001b[0;34m,\u001b[0m\u001b[0;34m'MNI152_T1_2mm_brain_mask.nii.gz'\u001b[0m\u001b[0;34m)\u001b[0m\u001b[0;34m\u001b[0m\u001b[0m\n\u001b[0m",
      "\u001b[0;32m/home/deepak/Desktop/funcConn/funcConnGUI/Scripts/ttest.py\u001b[0m in \u001b[0;36mttest_1samp_for_all_ROIs\u001b[0;34m(ROICorrMaps, ROIAtlas, PopMean, applyFisher)\u001b[0m\n\u001b[1;32m     81\u001b[0m     Sample_mean_Array, Sample_std_Array = calc_mean_and_std(ROICorrMaps, \n\u001b[1;32m     82\u001b[0m                                                             \u001b[0mn_subjects\u001b[0m\u001b[0;34m,\u001b[0m\u001b[0;34m\u001b[0m\u001b[0m\n\u001b[0;32m---> 83\u001b[0;31m                                                             \u001b[0mmask\u001b[0m\u001b[0;34m,\u001b[0m\u001b[0;34m\u001b[0m\u001b[0m\n\u001b[0m\u001b[1;32m     84\u001b[0m     \t                                                    applyFisher = applyFisher)\n\u001b[1;32m     85\u001b[0m     \u001b[0mttest_1samp_for_all\u001b[0m \u001b[0;34m=\u001b[0m \u001b[0mdiv0\u001b[0m\u001b[0;34m(\u001b[0m\u001b[0;34m(\u001b[0m\u001b[0mSample_mean_Array\u001b[0m \u001b[0;34m-\u001b[0m \u001b[0mPopMean\u001b[0m\u001b[0;34m)\u001b[0m \u001b[0;34m*\u001b[0m \u001b[0mnp\u001b[0m\u001b[0;34m.\u001b[0m\u001b[0msqrt\u001b[0m\u001b[0;34m(\u001b[0m\u001b[0mn_subjects\u001b[0m\u001b[0;34m)\u001b[0m\u001b[0;34m,\u001b[0m \u001b[0mSample_std_Array\u001b[0m\u001b[0;34m)\u001b[0m\u001b[0;34m\u001b[0m\u001b[0m\n",
      "\u001b[0;32m/home/deepak/Desktop/funcConn/funcConnGUI/Scripts/ttest.py\u001b[0m in \u001b[0;36mcalc_mean_and_std\u001b[0;34m(ROICorrMaps, n_subjects, mask, applyFisher)\u001b[0m\n\u001b[1;32m     33\u001b[0m     \u001b[0mSample_mean_Array\u001b[0m \u001b[0;34m=\u001b[0m \u001b[0mnp\u001b[0m\u001b[0;34m.\u001b[0m\u001b[0mzeros\u001b[0m\u001b[0;34m(\u001b[0m\u001b[0mdimensions\u001b[0m\u001b[0;34m)\u001b[0m\u001b[0;34m\u001b[0m\u001b[0m\n\u001b[1;32m     34\u001b[0m     \u001b[0mSample_std_Array\u001b[0m \u001b[0;34m=\u001b[0m \u001b[0mnp\u001b[0m\u001b[0;34m.\u001b[0m\u001b[0mzeros\u001b[0m\u001b[0;34m(\u001b[0m\u001b[0mdimensions\u001b[0m\u001b[0;34m)\u001b[0m\u001b[0;34m\u001b[0m\u001b[0m\n\u001b[0;32m---> 35\u001b[0;31m     \u001b[0mSample_mean_Array\u001b[0m \u001b[0;34m=\u001b[0m \u001b[0mma\u001b[0m\u001b[0;34m.\u001b[0m\u001b[0mmasked_array\u001b[0m\u001b[0;34m(\u001b[0m\u001b[0mSample_mean_Array\u001b[0m\u001b[0;34m,\u001b[0m \u001b[0mmask\u001b[0m \u001b[0;34m=\u001b[0m \u001b[0mmask\u001b[0m\u001b[0;34m)\u001b[0m\u001b[0;34m\u001b[0m\u001b[0m\n\u001b[0m\u001b[1;32m     36\u001b[0m     \u001b[0mSample_std_Array\u001b[0m \u001b[0;34m=\u001b[0m \u001b[0mma\u001b[0m\u001b[0;34m.\u001b[0m\u001b[0mmasked_array\u001b[0m\u001b[0;34m(\u001b[0m\u001b[0mSample_std_Array\u001b[0m\u001b[0;34m,\u001b[0m \u001b[0mmask\u001b[0m \u001b[0;34m=\u001b[0m \u001b[0mmask\u001b[0m\u001b[0;34m)\u001b[0m\u001b[0;34m\u001b[0m\u001b[0m\n\u001b[1;32m     37\u001b[0m     \u001b[0;32mfor\u001b[0m \u001b[0mcount\u001b[0m\u001b[0;34m,\u001b[0m \u001b[0msubject\u001b[0m \u001b[0;32min\u001b[0m \u001b[0menumerate\u001b[0m\u001b[0;34m(\u001b[0m\u001b[0mROICorrMaps\u001b[0m\u001b[0;34m)\u001b[0m\u001b[0;34m:\u001b[0m\u001b[0;34m\u001b[0m\u001b[0m\n",
      "\u001b[0;32m/home/deepak/anaconda3/lib/python3.6/site-packages/numpy/ma/core.py\u001b[0m in \u001b[0;36m__new__\u001b[0;34m(cls, data, mask, dtype, copy, subok, ndmin, fill_value, keep_mask, hard_mask, shrink, order, **options)\u001b[0m\n\u001b[1;32m   2845\u001b[0m                     \u001b[0mmsg\u001b[0m \u001b[0;34m=\u001b[0m \u001b[0;34m\"Mask and data not compatible: data size is %i, \"\u001b[0m \u001b[0;34m+\u001b[0m\u001b[0;31m \u001b[0m\u001b[0;31m\\\u001b[0m\u001b[0;34m\u001b[0m\u001b[0m\n\u001b[1;32m   2846\u001b[0m                           \u001b[0;34m\"mask size is %i.\"\u001b[0m\u001b[0;34m\u001b[0m\u001b[0m\n\u001b[0;32m-> 2847\u001b[0;31m                     \u001b[0;32mraise\u001b[0m \u001b[0mMaskError\u001b[0m\u001b[0;34m(\u001b[0m\u001b[0mmsg\u001b[0m \u001b[0;34m%\u001b[0m \u001b[0;34m(\u001b[0m\u001b[0mnd\u001b[0m\u001b[0;34m,\u001b[0m \u001b[0mnm\u001b[0m\u001b[0;34m)\u001b[0m\u001b[0;34m)\u001b[0m\u001b[0;34m\u001b[0m\u001b[0m\n\u001b[0m\u001b[1;32m   2848\u001b[0m                 \u001b[0mcopy\u001b[0m \u001b[0;34m=\u001b[0m \u001b[0;32mTrue\u001b[0m\u001b[0;34m\u001b[0m\u001b[0m\n\u001b[1;32m   2849\u001b[0m             \u001b[0;31m# Set the mask to the new value\u001b[0m\u001b[0;34m\u001b[0m\u001b[0;34m\u001b[0m\u001b[0m\n",
      "\u001b[0;31mMaskError\u001b[0m: Mask and data not compatible: data size is 222046734, mask size is 902629."
     ]
    }
   ],
   "source": [
    "Tvals, Pvals = ttest.ttest_1samp_for_all_ROIs(list1,'MNI152_T1_2mm_brain_mask.nii.gz')"
   ]
  },
  {
   "cell_type": "code",
   "execution_count": null,
   "metadata": {
    "collapsed": true
   },
   "outputs": [],
   "source": [
    "for  count, subject in enumerate(list1):\n",
    "    print(subject)"
   ]
  },
  {
   "cell_type": "code",
   "execution_count": 6,
   "metadata": {
    "collapsed": true
   },
   "outputs": [],
   "source": [
    "import nibabel as nib\n",
    "\n",
    "Afile = nib.load(list1[0]).get_data()"
   ]
  },
  {
   "cell_type": "code",
   "execution_count": 7,
   "metadata": {
    "collapsed": true
   },
   "outputs": [],
   "source": [
    "Bfile = np.square(Afile)"
   ]
  },
  {
   "cell_type": "code",
   "execution_count": 8,
   "metadata": {
    "collapsed": true
   },
   "outputs": [],
   "source": [
    "Afile += Bfile"
   ]
  },
  {
   "cell_type": "code",
   "execution_count": 13,
   "metadata": {
    "collapsed": true
   },
   "outputs": [],
   "source": [
    "Afile = np.sqrt(100*np.abs(Afile))"
   ]
  },
  {
   "cell_type": "code",
   "execution_count": null,
   "metadata": {
    "collapsed": true
   },
   "outputs": [],
   "source": [
    "del(Afile,B)"
   ]
  }
 ],
 "metadata": {
  "kernelspec": {
   "display_name": "Python 3",
   "language": "python",
   "name": "python3"
  },
  "language_info": {
   "codemirror_mode": {
    "name": "ipython",
    "version": 3
   },
   "file_extension": ".py",
   "mimetype": "text/x-python",
   "name": "python",
   "nbconvert_exporter": "python",
   "pygments_lexer": "ipython3",
   "version": "3.6.1"
  }
 },
 "nbformat": 4,
 "nbformat_minor": 2
}
